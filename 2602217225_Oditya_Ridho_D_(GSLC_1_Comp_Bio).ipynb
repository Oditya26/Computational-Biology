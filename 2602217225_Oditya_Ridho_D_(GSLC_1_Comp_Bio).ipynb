{
  "nbformat": 4,
  "nbformat_minor": 0,
  "metadata": {
    "colab": {
      "provenance": [],
      "authorship_tag": "ABX9TyNFtkeKzhcaPAe70+R6rWhF",
      "include_colab_link": true
    },
    "kernelspec": {
      "name": "python3",
      "display_name": "Python 3"
    },
    "language_info": {
      "name": "python"
    }
  },
  "cells": [
    {
      "cell_type": "markdown",
      "metadata": {
        "id": "view-in-github",
        "colab_type": "text"
      },
      "source": [
        "<a href=\"https://colab.research.google.com/github/Oditya26/Computational-Biology/blob/main/2602217225_Oditya_Ridho_D_(GSLC_1_Comp_Bio).ipynb\" target=\"_parent\"><img src=\"https://colab.research.google.com/assets/colab-badge.svg\" alt=\"Open In Colab\"/></a>"
      ]
    },
    {
      "cell_type": "code",
      "execution_count": 23,
      "metadata": {
        "colab": {
          "base_uri": "https://localhost:8080/"
        },
        "id": "10tuPZpQM25-",
        "outputId": "39e53ae7-d640-4286-e43a-b3cc180f6f0b"
      },
      "outputs": [
        {
          "output_type": "stream",
          "name": "stdout",
          "text": [
            "Requirement already satisfied: biopython in /usr/local/lib/python3.10/dist-packages (1.83)\n",
            "Requirement already satisfied: numpy in /usr/local/lib/python3.10/dist-packages (from biopython) (1.25.2)\n"
          ]
        }
      ],
      "source": [
        "# Menginstall library biopython untuk notebook ini\n",
        "!pip install biopython"
      ]
    },
    {
      "cell_type": "code",
      "source": [
        "# Mengimpor fungsi-fungsi yang dibutuhkan untuk mencari presentase konten GC\n",
        "# , suhu leleh, dan berat DNA\n",
        "from Bio.SeqUtils import gc_fraction, MeltingTemp as mt, molecular_weight"
      ],
      "metadata": {
        "id": "W3ZTwd6ANHrP"
      },
      "execution_count": 24,
      "outputs": []
    },
    {
      "cell_type": "code",
      "source": [
        "# Men-declare fungsi untuk konten AT\n",
        "def at_content(seq):\n",
        "    result = float(seq.count('A') + seq.count('T')) / len(seq) * 100\n",
        "    return result"
      ],
      "metadata": {
        "id": "8zQKEuqoOJB5"
      },
      "execution_count": 25,
      "outputs": []
    },
    {
      "cell_type": "code",
      "source": [
        "# Mengimpor fungsi untuk membuat sekuens DNA\n",
        "from Bio.Seq import Seq"
      ],
      "metadata": {
        "id": "1E9_o7WjNNsX"
      },
      "execution_count": 26,
      "outputs": []
    },
    {
      "cell_type": "code",
      "source": [
        "# Men-declare sekuens untuk DNA ayam\n",
        "gallus_seq = Seq(\"\"\"CCGGGAGCGGGGCGCAGCTTGGCTCCCGCTGGGGCTGTGCGGCGGTGGTGGCGTCGCTGGGCGCGGCAGGCTCTGTTTAGTGTTTTAGACTCGCGACCCGTTTTCTCTGGAGCTGATGTCTTCCGGATGTTTTCAGCTTGGCTAAAAAGCTGCTTTGCTGGAATGCTTTAGAGGGTCAAAAACCTTTTCGGTTTTAAATTAATTGAAATTAATTGAAGGAAATATTTCTGGCCTCACCAAAGAATTACCGGAATCATGGATCAGAACAACAGCTTGCCGCCCTACGCTCAAGGCCTAGCCTCCCCTCAGGGTGCAATGACTCCTGGAATTCCAATTTTTAGCCCGATGATGCCGTATGGCACAGGACTGACTCCACAGCCTGTCCAGAGCACCAACAGTCTGTCCATTCTTGAGGAACAGCAACGGCAGCAGCAGCAGCAACAGGCAGCGCAGCAGT\"\"\")"
      ],
      "metadata": {
        "id": "zDQbRkDjNS9C"
      },
      "execution_count": 27,
      "outputs": []
    },
    {
      "cell_type": "code",
      "source": [
        "# Menunjukkan persentase konten GC di sekuens DNA\n",
        "print(gc_fraction(gallus_seq))\n",
        "# Hasilnya adalah 0.5317286652078774 yang berarti 53,1% adalah GC"
      ],
      "metadata": {
        "colab": {
          "base_uri": "https://localhost:8080/"
        },
        "id": "r0LxSGKINpm9",
        "outputId": "e0aec16a-4b1e-4faa-97cd-1ec47686a76f"
      },
      "execution_count": 28,
      "outputs": [
        {
          "output_type": "stream",
          "name": "stdout",
          "text": [
            "0.5317286652078774\n"
          ]
        }
      ]
    },
    {
      "cell_type": "code",
      "source": [
        "# Menunjukkan persentase konten AT di sekuens DNA\n",
        "print(at_content(gallus_seq))\n",
        "# Hasilnya adalah 46.82713347921225 yang berarti 46,82% adalah AT"
      ],
      "metadata": {
        "colab": {
          "base_uri": "https://localhost:8080/"
        },
        "id": "SxFOEE2KN93-",
        "outputId": "76ca6e77-f6be-481a-ef8c-ee597e21c565"
      },
      "execution_count": 29,
      "outputs": [
        {
          "output_type": "stream",
          "name": "stdout",
          "text": [
            "46.82713347921225\n"
          ]
        }
      ]
    },
    {
      "cell_type": "code",
      "source": [
        "# Menunjukkan suhu leleh (melting point) menggunakan Wallace\n",
        "print(mt.Tm_Wallace(gallus_seq))\n",
        "# Hasilnya adalah 1400.0"
      ],
      "metadata": {
        "colab": {
          "base_uri": "https://localhost:8080/"
        },
        "id": "y1n0C40iOZu2",
        "outputId": "967d6837-41d7-4d7d-84cd-f7641718a759"
      },
      "execution_count": 30,
      "outputs": [
        {
          "output_type": "stream",
          "name": "stdout",
          "text": [
            "1400.0\n"
          ]
        }
      ]
    },
    {
      "cell_type": "code",
      "source": [
        "# Menunjukkan suhu leleh (melting point) menurut konten GC\n",
        "print(mt.Tm_GC(gallus_seq))\n",
        "# Hasilnya adalah 80.39086706103699"
      ],
      "metadata": {
        "colab": {
          "base_uri": "https://localhost:8080/"
        },
        "id": "DNR2RlVTOgRm",
        "outputId": "3adde387-f96a-4a0b-f7a2-ae9d301adf4c"
      },
      "execution_count": 31,
      "outputs": [
        {
          "output_type": "stream",
          "name": "stdout",
          "text": [
            "80.39086706103699\n"
          ]
        }
      ]
    },
    {
      "cell_type": "code",
      "source": [
        "# Menunjukkan suhu leleh (melting point) menurut NN\n",
        "print(mt.Tm_NN(gallus_seq))\n",
        "# Hasilnya adalah 83.82003439934385"
      ],
      "metadata": {
        "colab": {
          "base_uri": "https://localhost:8080/"
        },
        "id": "zZWK1kLWOtC9",
        "outputId": "b9717d85-84a9-4b90-b934-de8a95d6bdd2"
      },
      "execution_count": 32,
      "outputs": [
        {
          "output_type": "stream",
          "name": "stdout",
          "text": [
            "83.82003439934385\n"
          ]
        }
      ]
    },
    {
      "cell_type": "code",
      "source": [
        "# Menunjukkan berat molekul dari DNA\n",
        "print(molecular_weight(gallus_seq))\n",
        "# Hasilnya adalah 141317.9198999998"
      ],
      "metadata": {
        "colab": {
          "base_uri": "https://localhost:8080/"
        },
        "id": "BceeDl0pO0GW",
        "outputId": "7f8edf70-444a-4a21-b3e5-1f9268e51118"
      },
      "execution_count": 33,
      "outputs": [
        {
          "output_type": "stream",
          "name": "stdout",
          "text": [
            "141317.9198999998\n"
          ]
        }
      ]
    }
  ]
}